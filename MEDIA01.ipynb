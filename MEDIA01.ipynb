{
 "cells": [
  {
   "cell_type": "markdown",
   "metadata": {},
   "source": [
    "### Problem Statement: Digital video OTT services company analyisis of viewership data to understand significant factors to viewership and causes of decline in viewership "
   ]
  },
  {
   "cell_type": "code",
   "execution_count": 1,
   "metadata": {},
   "outputs": [],
   "source": [
    "# Importing all required packages\n",
    "import numpy as np\n",
    "import pandas as pd\n",
    "import matplotlib.pyplot as plt\n",
    "import seaborn as sns\n",
    "%matplotlib inline\n",
    "\n",
    "import scipy.stats as stats\n",
    "from sklearn.preprocessing import FunctionTransformer \n",
    "from sklearn.linear_model import LinearRegression"
   ]
  },
  {
   "cell_type": "code",
   "execution_count": 2,
   "metadata": {},
   "outputs": [],
   "source": [
    "#Importing dataset\n",
    "df = pd.read_csv('mediacompany.csv')\n",
    "df = df.drop('Unnamed: 7',axis = 1)"
   ]
  },
  {
   "cell_type": "code",
   "execution_count": 3,
   "metadata": {},
   "outputs": [],
   "source": [
    "# Converting date to Pandas datetime format\n",
    "df['Date'] = pd.to_datetime(df['Date'])"
   ]
  },
  {
   "cell_type": "code",
   "execution_count": 4,
   "metadata": {
    "scrolled": false
   },
   "outputs": [
    {
     "data": {
      "text/html": [
       "<div>\n",
       "<style scoped>\n",
       "    .dataframe tbody tr th:only-of-type {\n",
       "        vertical-align: middle;\n",
       "    }\n",
       "\n",
       "    .dataframe tbody tr th {\n",
       "        vertical-align: top;\n",
       "    }\n",
       "\n",
       "    .dataframe thead th {\n",
       "        text-align: right;\n",
       "    }\n",
       "</style>\n",
       "<table border=\"1\" class=\"dataframe\">\n",
       "  <thead>\n",
       "    <tr style=\"text-align: right;\">\n",
       "      <th></th>\n",
       "      <th>Date</th>\n",
       "      <th>Views_show</th>\n",
       "      <th>Visitors</th>\n",
       "      <th>Views_platform</th>\n",
       "      <th>Ad_impression</th>\n",
       "      <th>Cricket_match_india</th>\n",
       "      <th>Character_A</th>\n",
       "    </tr>\n",
       "  </thead>\n",
       "  <tbody>\n",
       "    <tr>\n",
       "      <th>0</th>\n",
       "      <td>2017-03-01</td>\n",
       "      <td>183738</td>\n",
       "      <td>1260228</td>\n",
       "      <td>1706478</td>\n",
       "      <td>1060860448</td>\n",
       "      <td>0</td>\n",
       "      <td>0</td>\n",
       "    </tr>\n",
       "    <tr>\n",
       "      <th>1</th>\n",
       "      <td>2017-03-02</td>\n",
       "      <td>193763</td>\n",
       "      <td>1270561</td>\n",
       "      <td>1690727</td>\n",
       "      <td>1031846645</td>\n",
       "      <td>0</td>\n",
       "      <td>0</td>\n",
       "    </tr>\n",
       "    <tr>\n",
       "      <th>2</th>\n",
       "      <td>2017-03-03</td>\n",
       "      <td>210479</td>\n",
       "      <td>1248183</td>\n",
       "      <td>1726157</td>\n",
       "      <td>1010867575</td>\n",
       "      <td>0</td>\n",
       "      <td>0</td>\n",
       "    </tr>\n",
       "    <tr>\n",
       "      <th>3</th>\n",
       "      <td>2017-03-04</td>\n",
       "      <td>240061</td>\n",
       "      <td>1492913</td>\n",
       "      <td>1855353</td>\n",
       "      <td>1079194579</td>\n",
       "      <td>1</td>\n",
       "      <td>0</td>\n",
       "    </tr>\n",
       "    <tr>\n",
       "      <th>4</th>\n",
       "      <td>2017-03-05</td>\n",
       "      <td>446314</td>\n",
       "      <td>1594712</td>\n",
       "      <td>2041418</td>\n",
       "      <td>1357736987</td>\n",
       "      <td>0</td>\n",
       "      <td>0</td>\n",
       "    </tr>\n",
       "  </tbody>\n",
       "</table>\n",
       "</div>"
      ],
      "text/plain": [
       "        Date  Views_show  Visitors  Views_platform  Ad_impression  \\\n",
       "0 2017-03-01      183738   1260228         1706478     1060860448   \n",
       "1 2017-03-02      193763   1270561         1690727     1031846645   \n",
       "2 2017-03-03      210479   1248183         1726157     1010867575   \n",
       "3 2017-03-04      240061   1492913         1855353     1079194579   \n",
       "4 2017-03-05      446314   1594712         2041418     1357736987   \n",
       "\n",
       "   Cricket_match_india  Character_A  \n",
       "0                    0            0  \n",
       "1                    0            0  \n",
       "2                    0            0  \n",
       "3                    1            0  \n",
       "4                    0            0  "
      ]
     },
     "execution_count": 4,
     "metadata": {},
     "output_type": "execute_result"
    }
   ],
   "source": [
    "df.head()"
   ]
  },
  {
   "cell_type": "markdown",
   "metadata": {},
   "source": [
    "* \n",
    "Views_show:\tNumber of times the show was viewed\n",
    "\n",
    "Visitors:\tNumber of visitors who browsed the platform, but not necessarily watched a video. \n",
    "\n",
    "Views_platform:\tNumber of times a video was viewed on the platform \n",
    "\n",
    "Ad_impression:\tProxy for marketing budget. Represents number of impressions generated by ads\n",
    "\n",
    "Cricket_match_india:\tIf a cricket match was being played. 1 indicates that there was a match on a given day, 0 indicates there wasn't\n",
    "\n",
    "Character_A:\tDescribes presence of Character A. 1 indicates that character A was present in the episode, 0 indicates she/he wasn't * "
   ]
  },
  {
   "cell_type": "code",
   "execution_count": 5,
   "metadata": {},
   "outputs": [
    {
     "data": {
      "text/plain": [
       "Text(0, 0.5, 'Views')"
      ]
     },
     "execution_count": 5,
     "metadata": {},
     "output_type": "execute_result"
    },
    {
     "data": {
      "image/png": "[encoded data removed]",
      "text/plain": [
       "<Figure size 432x288 with 1 Axes>"
      ]
     },
     "metadata": {
      "needs_background": "light"
     },
     "output_type": "display_data"
    }
   ],
   "source": [
    "#a problem statement of the company can be analysed as below \n",
    "\n",
    "fig = plt.figure()\n",
    "plt.plot(df.Date,df.Views_show, color=\"blue\", linewidth=2.5, linestyle=\"-\")\n",
    "\n",
    "fig.suptitle('Views over time', fontsize=20)              # Plot heading \n",
    "plt.xlabel('date', fontsize=18)                               # X-label\n",
    "plt.ylabel('Views', fontsize=16)   \n",
    "\n"
   ]
  },
  {
   "cell_type": "code",
   "execution_count": 6,
   "metadata": {},
   "outputs": [],
   "source": [
    "def diagnostic_plots(df,var): \n",
    "    plt.figure(figsize=(15,3))\n",
    "    plt.subplot(1,2,1) #one row, two cols, first graph \n",
    "    df[var].hist(bins=30)\n",
    "    plt.subplot(1,2,2)\n",
    "    stats.probplot(df[var],dist='norm',plot=plt)\n",
    "    plt.show()"
   ]
  },
  {
   "cell_type": "code",
   "execution_count": 7,
   "metadata": {},
   "outputs": [],
   "source": [
    "continous_vars=['Views_show','Visitors','Views_platform','Ad_impression']"
   ]
  },
  {
   "cell_type": "code",
   "execution_count": 8,
   "metadata": {
    "scrolled": true
   },
   "outputs": [
    {
     "data": {
      "image/png": "[encoded data removed]",
      "text/plain": [
       "<Figure size 1080x216 with 2 Axes>"
      ]
     },
     "metadata": {
      "needs_background": "light"
     },
     "output_type": "display_data"
    },
    {
     "data": {
      "image/png": "[encoded data removed]",
      "text/plain": [
       "<Figure size 1080x216 with 2 Axes>"
      ]
     },
     "metadata": {
      "needs_background": "light"
     },
     "output_type": "display_data"
    },
    {
     "data": {
      "image/png": "[encoded data removed]",
      "text/plain": [
       "<Figure size 1080x216 with 2 Axes>"
      ]
     },
     "metadata": {
      "needs_background": "light"
     },
     "output_type": "display_data"
    },
    {
     "data": {
      "image/png": "[encoded data removed]",
      "text/plain": [
       "<Figure size 1080x216 with 2 Axes>"
      ]
     },
     "metadata": {
      "needs_background": "light"
     },
     "output_type": "display_data"
    }
   ],
   "source": [
    "for i in continous_vars: \n",
    "    diagnostic_plots(df,i)"
   ]
  },
  {
   "cell_type": "markdown",
   "metadata": {},
   "source": [
    "### taking the logs of the continous variables to achieve normal dist "
   ]
  },
  {
   "cell_type": "code",
   "execution_count": 9,
   "metadata": {},
   "outputs": [],
   "source": [
    "media_df=df.copy()"
   ]
  },
  {
   "cell_type": "code",
   "execution_count": 10,
   "metadata": {},
   "outputs": [],
   "source": [
    "negatron=FunctionTransformer(np.log)"
   ]
  },
  {
   "cell_type": "code",
   "execution_count": 11,
   "metadata": {},
   "outputs": [],
   "source": [
    "media_df=negatron.transform(df[continous_vars])"
   ]
  },
  {
   "cell_type": "code",
   "execution_count": 12,
   "metadata": {},
   "outputs": [],
   "source": [
    "# media_df=pd.DataFrame(media_df,columns=[continous_vars])"
   ]
  },
  {
   "cell_type": "code",
   "execution_count": 13,
   "metadata": {
    "scrolled": true
   },
   "outputs": [
    {
     "data": {
      "text/html": [
       "<div>\n",
       "<style scoped>\n",
       "    .dataframe tbody tr th:only-of-type {\n",
       "        vertical-align: middle;\n",
       "    }\n",
       "\n",
       "    .dataframe tbody tr th {\n",
       "        vertical-align: top;\n",
       "    }\n",
       "\n",
       "    .dataframe thead th {\n",
       "        text-align: right;\n",
       "    }\n",
       "</style>\n",
       "<table border=\"1\" class=\"dataframe\">\n",
       "  <thead>\n",
       "    <tr style=\"text-align: right;\">\n",
       "      <th></th>\n",
       "      <th>Views_show</th>\n",
       "      <th>Visitors</th>\n",
       "      <th>Views_platform</th>\n",
       "      <th>Ad_impression</th>\n",
       "    </tr>\n",
       "  </thead>\n",
       "  <tbody>\n",
       "    <tr>\n",
       "      <th>0</th>\n",
       "      <td>12.121266</td>\n",
       "      <td>14.046803</td>\n",
       "      <td>14.349942</td>\n",
       "      <td>20.782346</td>\n",
       "    </tr>\n",
       "    <tr>\n",
       "      <th>1</th>\n",
       "      <td>12.174391</td>\n",
       "      <td>14.054969</td>\n",
       "      <td>14.340669</td>\n",
       "      <td>20.754616</td>\n",
       "    </tr>\n",
       "    <tr>\n",
       "      <th>2</th>\n",
       "      <td>12.257141</td>\n",
       "      <td>14.037199</td>\n",
       "      <td>14.361408</td>\n",
       "      <td>20.734075</td>\n",
       "    </tr>\n",
       "    <tr>\n",
       "      <th>3</th>\n",
       "      <td>12.388648</td>\n",
       "      <td>14.216240</td>\n",
       "      <td>14.433586</td>\n",
       "      <td>20.799481</td>\n",
       "    </tr>\n",
       "    <tr>\n",
       "      <th>4</th>\n",
       "      <td>13.008778</td>\n",
       "      <td>14.282204</td>\n",
       "      <td>14.529155</td>\n",
       "      <td>21.029085</td>\n",
       "    </tr>\n",
       "  </tbody>\n",
       "</table>\n",
       "</div>"
      ],
      "text/plain": [
       "   Views_show   Visitors  Views_platform  Ad_impression\n",
       "0   12.121266  14.046803       14.349942      20.782346\n",
       "1   12.174391  14.054969       14.340669      20.754616\n",
       "2   12.257141  14.037199       14.361408      20.734075\n",
       "3   12.388648  14.216240       14.433586      20.799481\n",
       "4   13.008778  14.282204       14.529155      21.029085"
      ]
     },
     "execution_count": 13,
     "metadata": {},
     "output_type": "execute_result"
    }
   ],
   "source": [
    "media_df.head()"
   ]
  },
  {
   "cell_type": "code",
   "execution_count": 14,
   "metadata": {},
   "outputs": [],
   "source": [
    "df.drop(columns=['Views_show', 'Visitors','Views_platform','Ad_impression'],inplace=True)"
   ]
  },
  {
   "cell_type": "code",
   "execution_count": 15,
   "metadata": {},
   "outputs": [],
   "source": [
    "df3=pd.concat([df, media_df], axis=1)"
   ]
  },
  {
   "cell_type": "code",
   "execution_count": 16,
   "metadata": {},
   "outputs": [
    {
     "data": {
      "text/html": [
       "<div>\n",
       "<style scoped>\n",
       "    .dataframe tbody tr th:only-of-type {\n",
       "        vertical-align: middle;\n",
       "    }\n",
       "\n",
       "    .dataframe tbody tr th {\n",
       "        vertical-align: top;\n",
       "    }\n",
       "\n",
       "    .dataframe thead th {\n",
       "        text-align: right;\n",
       "    }\n",
       "</style>\n",
       "<table border=\"1\" class=\"dataframe\">\n",
       "  <thead>\n",
       "    <tr style=\"text-align: right;\">\n",
       "      <th></th>\n",
       "      <th>Date</th>\n",
       "      <th>Cricket_match_india</th>\n",
       "      <th>Character_A</th>\n",
       "      <th>Views_show</th>\n",
       "      <th>Visitors</th>\n",
       "      <th>Views_platform</th>\n",
       "      <th>Ad_impression</th>\n",
       "    </tr>\n",
       "  </thead>\n",
       "  <tbody>\n",
       "    <tr>\n",
       "      <th>0</th>\n",
       "      <td>2017-03-01</td>\n",
       "      <td>0</td>\n",
       "      <td>0</td>\n",
       "      <td>12.121266</td>\n",
       "      <td>14.046803</td>\n",
       "      <td>14.349942</td>\n",
       "      <td>20.782346</td>\n",
       "    </tr>\n",
       "    <tr>\n",
       "      <th>1</th>\n",
       "      <td>2017-03-02</td>\n",
       "      <td>0</td>\n",
       "      <td>0</td>\n",
       "      <td>12.174391</td>\n",
       "      <td>14.054969</td>\n",
       "      <td>14.340669</td>\n",
       "      <td>20.754616</td>\n",
       "    </tr>\n",
       "    <tr>\n",
       "      <th>2</th>\n",
       "      <td>2017-03-03</td>\n",
       "      <td>0</td>\n",
       "      <td>0</td>\n",
       "      <td>12.257141</td>\n",
       "      <td>14.037199</td>\n",
       "      <td>14.361408</td>\n",
       "      <td>20.734075</td>\n",
       "    </tr>\n",
       "    <tr>\n",
       "      <th>3</th>\n",
       "      <td>2017-03-04</td>\n",
       "      <td>1</td>\n",
       "      <td>0</td>\n",
       "      <td>12.388648</td>\n",
       "      <td>14.216240</td>\n",
       "      <td>14.433586</td>\n",
       "      <td>20.799481</td>\n",
       "    </tr>\n",
       "    <tr>\n",
       "      <th>4</th>\n",
       "      <td>2017-03-05</td>\n",
       "      <td>0</td>\n",
       "      <td>0</td>\n",
       "      <td>13.008778</td>\n",
       "      <td>14.282204</td>\n",
       "      <td>14.529155</td>\n",
       "      <td>21.029085</td>\n",
       "    </tr>\n",
       "    <tr>\n",
       "      <th>...</th>\n",
       "      <td>...</td>\n",
       "      <td>...</td>\n",
       "      <td>...</td>\n",
       "      <td>...</td>\n",
       "      <td>...</td>\n",
       "      <td>...</td>\n",
       "      <td>...</td>\n",
       "    </tr>\n",
       "    <tr>\n",
       "      <th>75</th>\n",
       "      <td>2017-05-15</td>\n",
       "      <td>1</td>\n",
       "      <td>0</td>\n",
       "      <td>12.656973</td>\n",
       "      <td>14.408110</td>\n",
       "      <td>14.616071</td>\n",
       "      <td>21.058346</td>\n",
       "    </tr>\n",
       "    <tr>\n",
       "      <th>76</th>\n",
       "      <td>2017-05-16</td>\n",
       "      <td>1</td>\n",
       "      <td>0</td>\n",
       "      <td>12.131829</td>\n",
       "      <td>14.411170</td>\n",
       "      <td>14.603897</td>\n",
       "      <td>20.994789</td>\n",
       "    </tr>\n",
       "    <tr>\n",
       "      <th>77</th>\n",
       "      <td>2017-05-17</td>\n",
       "      <td>1</td>\n",
       "      <td>0</td>\n",
       "      <td>11.865412</td>\n",
       "      <td>14.378437</td>\n",
       "      <td>14.615605</td>\n",
       "      <td>20.945021</td>\n",
       "    </tr>\n",
       "    <tr>\n",
       "      <th>78</th>\n",
       "      <td>2017-05-18</td>\n",
       "      <td>1</td>\n",
       "      <td>0</td>\n",
       "      <td>11.819461</td>\n",
       "      <td>14.374929</td>\n",
       "      <td>14.649632</td>\n",
       "      <td>20.973915</td>\n",
       "    </tr>\n",
       "    <tr>\n",
       "      <th>79</th>\n",
       "      <td>2017-05-19</td>\n",
       "      <td>1</td>\n",
       "      <td>0</td>\n",
       "      <td>11.598745</td>\n",
       "      <td>14.373259</td>\n",
       "      <td>14.639263</td>\n",
       "      <td>20.943226</td>\n",
       "    </tr>\n",
       "  </tbody>\n",
       "</table>\n",
       "<p>80 rows × 7 columns</p>\n",
       "</div>"
      ],
      "text/plain": [
       "         Date  Cricket_match_india  Character_A  Views_show   Visitors  \\\n",
       "0  2017-03-01                    0            0   12.121266  14.046803   \n",
       "1  2017-03-02                    0            0   12.174391  14.054969   \n",
       "2  2017-03-03                    0            0   12.257141  14.037199   \n",
       "3  2017-03-04                    1            0   12.388648  14.216240   \n",
       "4  2017-03-05                    0            0   13.008778  14.282204   \n",
       "..        ...                  ...          ...         ...        ...   \n",
       "75 2017-05-15                    1            0   12.656973  14.408110   \n",
       "76 2017-05-16                    1            0   12.131829  14.411170   \n",
       "77 2017-05-17                    1            0   11.865412  14.378437   \n",
       "78 2017-05-18                    1            0   11.819461  14.374929   \n",
       "79 2017-05-19                    1            0   11.598745  14.373259   \n",
       "\n",
       "    Views_platform  Ad_impression  \n",
       "0        14.349942      20.782346  \n",
       "1        14.340669      20.754616  \n",
       "2        14.361408      20.734075  \n",
       "3        14.433586      20.799481  \n",
       "4        14.529155      21.029085  \n",
       "..             ...            ...  \n",
       "75       14.616071      21.058346  \n",
       "76       14.603897      20.994789  \n",
       "77       14.615605      20.945021  \n",
       "78       14.649632      20.973915  \n",
       "79       14.639263      20.943226  \n",
       "\n",
       "[80 rows x 7 columns]"
      ]
     },
     "execution_count": 16,
     "metadata": {},
     "output_type": "execute_result"
    }
   ],
   "source": [
    "df3"
   ]
  },
  {
   "cell_type": "code",
   "execution_count": 17,
   "metadata": {
    "scrolled": false
   },
   "outputs": [
    {
     "data": {
      "image/png": "[encoded data removed]",
      "text/plain": [
       "<Figure size 432x288 with 4 Axes>"
      ]
     },
     "metadata": {
      "needs_background": "light"
     },
     "output_type": "display_data"
    }
   ],
   "source": [
    "\n",
    "df3[continous_vars].hist(bins=15)\n",
    "\n",
    "plt.show()"
   ]
  },
  {
   "cell_type": "code",
   "execution_count": 18,
   "metadata": {},
   "outputs": [],
   "source": [
    "from datetime import date\n",
    "df3['Date'] = pd.to_datetime(df3['Date'])\n"
   ]
  },
  {
   "cell_type": "code",
   "execution_count": 19,
   "metadata": {},
   "outputs": [
    {
     "data": {
      "text/plain": [
       "Timestamp('2017-03-01 00:00:00')"
      ]
     },
     "execution_count": 19,
     "metadata": {},
     "output_type": "execute_result"
    }
   ],
   "source": [
    "d0 = df3['Date'].min()\n",
    "d0"
   ]
  },
  {
   "cell_type": "code",
   "execution_count": 20,
   "metadata": {},
   "outputs": [],
   "source": [
    "d1 = df3.Date\n",
    "\n",
    "delta = d1 - d0\n",
    "df3['day']= delta"
   ]
  },
  {
   "cell_type": "code",
   "execution_count": 21,
   "metadata": {},
   "outputs": [
    {
     "data": {
      "text/html": [
       "<div>\n",
       "<style scoped>\n",
       "    .dataframe tbody tr th:only-of-type {\n",
       "        vertical-align: middle;\n",
       "    }\n",
       "\n",
       "    .dataframe tbody tr th {\n",
       "        vertical-align: top;\n",
       "    }\n",
       "\n",
       "    .dataframe thead th {\n",
       "        text-align: right;\n",
       "    }\n",
       "</style>\n",
       "<table border=\"1\" class=\"dataframe\">\n",
       "  <thead>\n",
       "    <tr style=\"text-align: right;\">\n",
       "      <th></th>\n",
       "      <th>Date</th>\n",
       "      <th>Cricket_match_india</th>\n",
       "      <th>Character_A</th>\n",
       "      <th>Views_show</th>\n",
       "      <th>Visitors</th>\n",
       "      <th>Views_platform</th>\n",
       "      <th>Ad_impression</th>\n",
       "      <th>day</th>\n",
       "    </tr>\n",
       "  </thead>\n",
       "  <tbody>\n",
       "    <tr>\n",
       "      <th>0</th>\n",
       "      <td>2017-03-01</td>\n",
       "      <td>0</td>\n",
       "      <td>0</td>\n",
       "      <td>12.121266</td>\n",
       "      <td>14.046803</td>\n",
       "      <td>14.349942</td>\n",
       "      <td>20.782346</td>\n",
       "      <td>0 days</td>\n",
       "    </tr>\n",
       "    <tr>\n",
       "      <th>1</th>\n",
       "      <td>2017-03-02</td>\n",
       "      <td>0</td>\n",
       "      <td>0</td>\n",
       "      <td>12.174391</td>\n",
       "      <td>14.054969</td>\n",
       "      <td>14.340669</td>\n",
       "      <td>20.754616</td>\n",
       "      <td>1 days</td>\n",
       "    </tr>\n",
       "    <tr>\n",
       "      <th>2</th>\n",
       "      <td>2017-03-03</td>\n",
       "      <td>0</td>\n",
       "      <td>0</td>\n",
       "      <td>12.257141</td>\n",
       "      <td>14.037199</td>\n",
       "      <td>14.361408</td>\n",
       "      <td>20.734075</td>\n",
       "      <td>2 days</td>\n",
       "    </tr>\n",
       "    <tr>\n",
       "      <th>3</th>\n",
       "      <td>2017-03-04</td>\n",
       "      <td>1</td>\n",
       "      <td>0</td>\n",
       "      <td>12.388648</td>\n",
       "      <td>14.216240</td>\n",
       "      <td>14.433586</td>\n",
       "      <td>20.799481</td>\n",
       "      <td>3 days</td>\n",
       "    </tr>\n",
       "    <tr>\n",
       "      <th>4</th>\n",
       "      <td>2017-03-05</td>\n",
       "      <td>0</td>\n",
       "      <td>0</td>\n",
       "      <td>13.008778</td>\n",
       "      <td>14.282204</td>\n",
       "      <td>14.529155</td>\n",
       "      <td>21.029085</td>\n",
       "      <td>4 days</td>\n",
       "    </tr>\n",
       "  </tbody>\n",
       "</table>\n",
       "</div>"
      ],
      "text/plain": [
       "        Date  Cricket_match_india  Character_A  Views_show   Visitors  \\\n",
       "0 2017-03-01                    0            0   12.121266  14.046803   \n",
       "1 2017-03-02                    0            0   12.174391  14.054969   \n",
       "2 2017-03-03                    0            0   12.257141  14.037199   \n",
       "3 2017-03-04                    1            0   12.388648  14.216240   \n",
       "4 2017-03-05                    0            0   13.008778  14.282204   \n",
       "\n",
       "   Views_platform  Ad_impression    day  \n",
       "0       14.349942      20.782346 0 days  \n",
       "1       14.340669      20.754616 1 days  \n",
       "2       14.361408      20.734075 2 days  \n",
       "3       14.433586      20.799481 3 days  \n",
       "4       14.529155      21.029085 4 days  "
      ]
     },
     "execution_count": 21,
     "metadata": {},
     "output_type": "execute_result"
    }
   ],
   "source": [
    "df3.head()"
   ]
  },
  {
   "cell_type": "code",
   "execution_count": 22,
   "metadata": {},
   "outputs": [],
   "source": [
    "df3['day'] = df3['day'].astype(str)\n",
    "df3['day'] = df3['day'].map(lambda x: x[0:2])\n",
    "df3['day'] = df3['day'].astype(int)"
   ]
  },
  {
   "cell_type": "code",
   "execution_count": 23,
   "metadata": {},
   "outputs": [
    {
     "data": {
      "text/html": [
       "<div>\n",
       "<style scoped>\n",
       "    .dataframe tbody tr th:only-of-type {\n",
       "        vertical-align: middle;\n",
       "    }\n",
       "\n",
       "    .dataframe tbody tr th {\n",
       "        vertical-align: top;\n",
       "    }\n",
       "\n",
       "    .dataframe thead th {\n",
       "        text-align: right;\n",
       "    }\n",
       "</style>\n",
       "<table border=\"1\" class=\"dataframe\">\n",
       "  <thead>\n",
       "    <tr style=\"text-align: right;\">\n",
       "      <th></th>\n",
       "      <th>Date</th>\n",
       "      <th>Cricket_match_india</th>\n",
       "      <th>Character_A</th>\n",
       "      <th>Views_show</th>\n",
       "      <th>Visitors</th>\n",
       "      <th>Views_platform</th>\n",
       "      <th>Ad_impression</th>\n",
       "      <th>day</th>\n",
       "    </tr>\n",
       "  </thead>\n",
       "  <tbody>\n",
       "    <tr>\n",
       "      <th>0</th>\n",
       "      <td>2017-03-01</td>\n",
       "      <td>0</td>\n",
       "      <td>0</td>\n",
       "      <td>12.121266</td>\n",
       "      <td>14.046803</td>\n",
       "      <td>14.349942</td>\n",
       "      <td>20.782346</td>\n",
       "      <td>0</td>\n",
       "    </tr>\n",
       "    <tr>\n",
       "      <th>1</th>\n",
       "      <td>2017-03-02</td>\n",
       "      <td>0</td>\n",
       "      <td>0</td>\n",
       "      <td>12.174391</td>\n",
       "      <td>14.054969</td>\n",
       "      <td>14.340669</td>\n",
       "      <td>20.754616</td>\n",
       "      <td>1</td>\n",
       "    </tr>\n",
       "    <tr>\n",
       "      <th>2</th>\n",
       "      <td>2017-03-03</td>\n",
       "      <td>0</td>\n",
       "      <td>0</td>\n",
       "      <td>12.257141</td>\n",
       "      <td>14.037199</td>\n",
       "      <td>14.361408</td>\n",
       "      <td>20.734075</td>\n",
       "      <td>2</td>\n",
       "    </tr>\n",
       "    <tr>\n",
       "      <th>3</th>\n",
       "      <td>2017-03-04</td>\n",
       "      <td>1</td>\n",
       "      <td>0</td>\n",
       "      <td>12.388648</td>\n",
       "      <td>14.216240</td>\n",
       "      <td>14.433586</td>\n",
       "      <td>20.799481</td>\n",
       "      <td>3</td>\n",
       "    </tr>\n",
       "    <tr>\n",
       "      <th>4</th>\n",
       "      <td>2017-03-05</td>\n",
       "      <td>0</td>\n",
       "      <td>0</td>\n",
       "      <td>13.008778</td>\n",
       "      <td>14.282204</td>\n",
       "      <td>14.529155</td>\n",
       "      <td>21.029085</td>\n",
       "      <td>4</td>\n",
       "    </tr>\n",
       "  </tbody>\n",
       "</table>\n",
       "</div>"
      ],
      "text/plain": [
       "        Date  Cricket_match_india  Character_A  Views_show   Visitors  \\\n",
       "0 2017-03-01                    0            0   12.121266  14.046803   \n",
       "1 2017-03-02                    0            0   12.174391  14.054969   \n",
       "2 2017-03-03                    0            0   12.257141  14.037199   \n",
       "3 2017-03-04                    1            0   12.388648  14.216240   \n",
       "4 2017-03-05                    0            0   13.008778  14.282204   \n",
       "\n",
       "   Views_platform  Ad_impression  day  \n",
       "0       14.349942      20.782346    0  \n",
       "1       14.340669      20.754616    1  \n",
       "2       14.361408      20.734075    2  \n",
       "3       14.433586      20.799481    3  \n",
       "4       14.529155      21.029085    4  "
      ]
     },
     "execution_count": 23,
     "metadata": {},
     "output_type": "execute_result"
    }
   ],
   "source": [
    "df3.head()"
   ]
  },
  {
   "cell_type": "code",
   "execution_count": 24,
   "metadata": {},
   "outputs": [
    {
     "data": {
      "text/html": [
       "<div>\n",
       "<style scoped>\n",
       "    .dataframe tbody tr th:only-of-type {\n",
       "        vertical-align: middle;\n",
       "    }\n",
       "\n",
       "    .dataframe tbody tr th {\n",
       "        vertical-align: top;\n",
       "    }\n",
       "\n",
       "    .dataframe thead th {\n",
       "        text-align: right;\n",
       "    }\n",
       "</style>\n",
       "<table border=\"1\" class=\"dataframe\">\n",
       "  <thead>\n",
       "    <tr style=\"text-align: right;\">\n",
       "      <th></th>\n",
       "      <th>Date</th>\n",
       "      <th>Cricket_match_india</th>\n",
       "      <th>Character_A</th>\n",
       "      <th>Views_show</th>\n",
       "      <th>Visitors</th>\n",
       "      <th>Views_platform</th>\n",
       "      <th>Ad_impression</th>\n",
       "      <th>day</th>\n",
       "      <th>weekday</th>\n",
       "    </tr>\n",
       "  </thead>\n",
       "  <tbody>\n",
       "    <tr>\n",
       "      <th>0</th>\n",
       "      <td>2017-03-01</td>\n",
       "      <td>0</td>\n",
       "      <td>0</td>\n",
       "      <td>12.121266</td>\n",
       "      <td>14.046803</td>\n",
       "      <td>14.349942</td>\n",
       "      <td>20.782346</td>\n",
       "      <td>0</td>\n",
       "      <td>3</td>\n",
       "    </tr>\n",
       "    <tr>\n",
       "      <th>1</th>\n",
       "      <td>2017-03-02</td>\n",
       "      <td>0</td>\n",
       "      <td>0</td>\n",
       "      <td>12.174391</td>\n",
       "      <td>14.054969</td>\n",
       "      <td>14.340669</td>\n",
       "      <td>20.754616</td>\n",
       "      <td>1</td>\n",
       "      <td>4</td>\n",
       "    </tr>\n",
       "    <tr>\n",
       "      <th>2</th>\n",
       "      <td>2017-03-03</td>\n",
       "      <td>0</td>\n",
       "      <td>0</td>\n",
       "      <td>12.257141</td>\n",
       "      <td>14.037199</td>\n",
       "      <td>14.361408</td>\n",
       "      <td>20.734075</td>\n",
       "      <td>2</td>\n",
       "      <td>5</td>\n",
       "    </tr>\n",
       "    <tr>\n",
       "      <th>3</th>\n",
       "      <td>2017-03-04</td>\n",
       "      <td>1</td>\n",
       "      <td>0</td>\n",
       "      <td>12.388648</td>\n",
       "      <td>14.216240</td>\n",
       "      <td>14.433586</td>\n",
       "      <td>20.799481</td>\n",
       "      <td>3</td>\n",
       "      <td>6</td>\n",
       "    </tr>\n",
       "    <tr>\n",
       "      <th>4</th>\n",
       "      <td>2017-03-05</td>\n",
       "      <td>0</td>\n",
       "      <td>0</td>\n",
       "      <td>13.008778</td>\n",
       "      <td>14.282204</td>\n",
       "      <td>14.529155</td>\n",
       "      <td>21.029085</td>\n",
       "      <td>4</td>\n",
       "      <td>7</td>\n",
       "    </tr>\n",
       "  </tbody>\n",
       "</table>\n",
       "</div>"
      ],
      "text/plain": [
       "        Date  Cricket_match_india  Character_A  Views_show   Visitors  \\\n",
       "0 2017-03-01                    0            0   12.121266  14.046803   \n",
       "1 2017-03-02                    0            0   12.174391  14.054969   \n",
       "2 2017-03-03                    0            0   12.257141  14.037199   \n",
       "3 2017-03-04                    1            0   12.388648  14.216240   \n",
       "4 2017-03-05                    0            0   13.008778  14.282204   \n",
       "\n",
       "   Views_platform  Ad_impression  day  weekday  \n",
       "0       14.349942      20.782346    0        3  \n",
       "1       14.340669      20.754616    1        4  \n",
       "2       14.361408      20.734075    2        5  \n",
       "3       14.433586      20.799481    3        6  \n",
       "4       14.529155      21.029085    4        7  "
      ]
     },
     "execution_count": 24,
     "metadata": {},
     "output_type": "execute_result"
    }
   ],
   "source": [
    "df3['weekday'] = (df3['day']+3)%7\n",
    "df3.weekday.replace(0,7, inplace=True)\n",
    "df3['weekday'] = df3['weekday'].astype(int)\n",
    "df3.head()"
   ]
  },
  {
   "cell_type": "code",
   "execution_count": 25,
   "metadata": {},
   "outputs": [
    {
     "data": {
      "image/png": "[encoded data removed]",
      "text/plain": [
       "<Figure size 720x720 with 20 Axes>"
      ]
     },
     "metadata": {
      "needs_background": "light"
     },
     "output_type": "display_data"
    }
   ],
   "source": [
    "sns.pairplot(df3.iloc[:,3:7].sample(500,replace=True))\n",
    "plt.show()\n"
   ]
  },
  {
   "cell_type": "code",
   "execution_count": 26,
   "metadata": {},
   "outputs": [],
   "source": [
    "from sklearn.preprocessing import MinMaxScaler"
   ]
  },
  {
   "cell_type": "code",
   "execution_count": 27,
   "metadata": {},
   "outputs": [],
   "source": [
    "#instantiating an object named 'scaly'\n",
    "scaly = MinMaxScaler() "
   ]
  },
  {
   "cell_type": "code",
   "execution_count": 28,
   "metadata": {},
   "outputs": [],
   "source": [
    "# Apply scaly() to all the columns except the 'yes-no' and 'dummy' variables\n",
    "num_vars = ['Views_show', 'Visitors', 'Views_platform','Ad_impression']\n",
    "\n",
    "df3[num_vars] = scaly.fit_transform(df3[num_vars])"
   ]
  },
  {
   "cell_type": "code",
   "execution_count": 29,
   "metadata": {},
   "outputs": [
    {
     "data": {
      "text/html": [
       "<div>\n",
       "<style scoped>\n",
       "    .dataframe tbody tr th:only-of-type {\n",
       "        vertical-align: middle;\n",
       "    }\n",
       "\n",
       "    .dataframe tbody tr th {\n",
       "        vertical-align: top;\n",
       "    }\n",
       "\n",
       "    .dataframe thead th {\n",
       "        text-align: right;\n",
       "    }\n",
       "</style>\n",
       "<table border=\"1\" class=\"dataframe\">\n",
       "  <thead>\n",
       "    <tr style=\"text-align: right;\">\n",
       "      <th></th>\n",
       "      <th>Date</th>\n",
       "      <th>Cricket_match_india</th>\n",
       "      <th>Character_A</th>\n",
       "      <th>Views_show</th>\n",
       "      <th>Visitors</th>\n",
       "      <th>Views_platform</th>\n",
       "      <th>Ad_impression</th>\n",
       "      <th>day</th>\n",
       "      <th>weekday</th>\n",
       "    </tr>\n",
       "  </thead>\n",
       "  <tbody>\n",
       "    <tr>\n",
       "      <th>0</th>\n",
       "      <td>2017-03-01</td>\n",
       "      <td>0</td>\n",
       "      <td>0</td>\n",
       "      <td>0.291514</td>\n",
       "      <td>0.015233</td>\n",
       "      <td>0.015593</td>\n",
       "      <td>0.055187</td>\n",
       "      <td>0</td>\n",
       "      <td>3</td>\n",
       "    </tr>\n",
       "    <tr>\n",
       "      <th>1</th>\n",
       "      <td>2017-03-02</td>\n",
       "      <td>0</td>\n",
       "      <td>0</td>\n",
       "      <td>0.318057</td>\n",
       "      <td>0.028186</td>\n",
       "      <td>0.000000</td>\n",
       "      <td>0.023484</td>\n",
       "      <td>1</td>\n",
       "      <td>4</td>\n",
       "    </tr>\n",
       "    <tr>\n",
       "      <th>2</th>\n",
       "      <td>2017-03-03</td>\n",
       "      <td>0</td>\n",
       "      <td>0</td>\n",
       "      <td>0.359402</td>\n",
       "      <td>0.000000</td>\n",
       "      <td>0.034873</td>\n",
       "      <td>0.000000</td>\n",
       "      <td>2</td>\n",
       "      <td>5</td>\n",
       "    </tr>\n",
       "    <tr>\n",
       "      <th>3</th>\n",
       "      <td>2017-03-04</td>\n",
       "      <td>1</td>\n",
       "      <td>0</td>\n",
       "      <td>0.425108</td>\n",
       "      <td>0.283989</td>\n",
       "      <td>0.156241</td>\n",
       "      <td>0.074776</td>\n",
       "      <td>3</td>\n",
       "      <td>6</td>\n",
       "    </tr>\n",
       "    <tr>\n",
       "      <th>4</th>\n",
       "      <td>2017-03-05</td>\n",
       "      <td>0</td>\n",
       "      <td>0</td>\n",
       "      <td>0.734947</td>\n",
       "      <td>0.388620</td>\n",
       "      <td>0.316943</td>\n",
       "      <td>0.337273</td>\n",
       "      <td>4</td>\n",
       "      <td>7</td>\n",
       "    </tr>\n",
       "  </tbody>\n",
       "</table>\n",
       "</div>"
      ],
      "text/plain": [
       "        Date  Cricket_match_india  Character_A  Views_show  Visitors  \\\n",
       "0 2017-03-01                    0            0    0.291514  0.015233   \n",
       "1 2017-03-02                    0            0    0.318057  0.028186   \n",
       "2 2017-03-03                    0            0    0.359402  0.000000   \n",
       "3 2017-03-04                    1            0    0.425108  0.283989   \n",
       "4 2017-03-05                    0            0    0.734947  0.388620   \n",
       "\n",
       "   Views_platform  Ad_impression  day  weekday  \n",
       "0        0.015593       0.055187    0        3  \n",
       "1        0.000000       0.023484    1        4  \n",
       "2        0.034873       0.000000    2        5  \n",
       "3        0.156241       0.074776    3        6  \n",
       "4        0.316943       0.337273    4        7  "
      ]
     },
     "execution_count": 29,
     "metadata": {},
     "output_type": "execute_result"
    }
   ],
   "source": [
    "df3.head()"
   ]
  },
  {
   "cell_type": "code",
   "execution_count": 30,
   "metadata": {},
   "outputs": [],
   "source": [
    "#using 'Views_show' as the y variable- first we split the dataset "
   ]
  },
  {
   "cell_type": "code",
   "execution_count": 31,
   "metadata": {},
   "outputs": [],
   "source": [
    "y_train = df3.pop('Views_show') #popping the dependent variable to the y_train \n",
    "X_train = df3"
   ]
  },
  {
   "cell_type": "code",
   "execution_count": 32,
   "metadata": {},
   "outputs": [
    {
     "data": {
      "text/html": [
       "<div>\n",
       "<style scoped>\n",
       "    .dataframe tbody tr th:only-of-type {\n",
       "        vertical-align: middle;\n",
       "    }\n",
       "\n",
       "    .dataframe tbody tr th {\n",
       "        vertical-align: top;\n",
       "    }\n",
       "\n",
       "    .dataframe thead th {\n",
       "        text-align: right;\n",
       "    }\n",
       "</style>\n",
       "<table border=\"1\" class=\"dataframe\">\n",
       "  <thead>\n",
       "    <tr style=\"text-align: right;\">\n",
       "      <th></th>\n",
       "      <th>Date</th>\n",
       "      <th>Cricket_match_india</th>\n",
       "      <th>Character_A</th>\n",
       "      <th>Visitors</th>\n",
       "      <th>Views_platform</th>\n",
       "      <th>Ad_impression</th>\n",
       "      <th>day</th>\n",
       "      <th>weekday</th>\n",
       "    </tr>\n",
       "  </thead>\n",
       "  <tbody>\n",
       "    <tr>\n",
       "      <th>0</th>\n",
       "      <td>2017-03-01</td>\n",
       "      <td>0</td>\n",
       "      <td>0</td>\n",
       "      <td>0.015233</td>\n",
       "      <td>0.015593</td>\n",
       "      <td>0.055187</td>\n",
       "      <td>0</td>\n",
       "      <td>3</td>\n",
       "    </tr>\n",
       "    <tr>\n",
       "      <th>1</th>\n",
       "      <td>2017-03-02</td>\n",
       "      <td>0</td>\n",
       "      <td>0</td>\n",
       "      <td>0.028186</td>\n",
       "      <td>0.000000</td>\n",
       "      <td>0.023484</td>\n",
       "      <td>1</td>\n",
       "      <td>4</td>\n",
       "    </tr>\n",
       "    <tr>\n",
       "      <th>2</th>\n",
       "      <td>2017-03-03</td>\n",
       "      <td>0</td>\n",
       "      <td>0</td>\n",
       "      <td>0.000000</td>\n",
       "      <td>0.034873</td>\n",
       "      <td>0.000000</td>\n",
       "      <td>2</td>\n",
       "      <td>5</td>\n",
       "    </tr>\n",
       "    <tr>\n",
       "      <th>3</th>\n",
       "      <td>2017-03-04</td>\n",
       "      <td>1</td>\n",
       "      <td>0</td>\n",
       "      <td>0.283989</td>\n",
       "      <td>0.156241</td>\n",
       "      <td>0.074776</td>\n",
       "      <td>3</td>\n",
       "      <td>6</td>\n",
       "    </tr>\n",
       "    <tr>\n",
       "      <th>4</th>\n",
       "      <td>2017-03-05</td>\n",
       "      <td>0</td>\n",
       "      <td>0</td>\n",
       "      <td>0.388620</td>\n",
       "      <td>0.316943</td>\n",
       "      <td>0.337273</td>\n",
       "      <td>4</td>\n",
       "      <td>7</td>\n",
       "    </tr>\n",
       "  </tbody>\n",
       "</table>\n",
       "</div>"
      ],
      "text/plain": [
       "        Date  Cricket_match_india  Character_A  Visitors  Views_platform  \\\n",
       "0 2017-03-01                    0            0  0.015233        0.015593   \n",
       "1 2017-03-02                    0            0  0.028186        0.000000   \n",
       "2 2017-03-03                    0            0  0.000000        0.034873   \n",
       "3 2017-03-04                    1            0  0.283989        0.156241   \n",
       "4 2017-03-05                    0            0  0.388620        0.316943   \n",
       "\n",
       "   Ad_impression  day  weekday  \n",
       "0       0.055187    0        3  \n",
       "1       0.023484    1        4  \n",
       "2       0.000000    2        5  \n",
       "3       0.074776    3        6  \n",
       "4       0.337273    4        7  "
      ]
     },
     "execution_count": 32,
     "metadata": {},
     "output_type": "execute_result"
    }
   ],
   "source": [
    "X_train.head()"
   ]
  },
  {
   "cell_type": "code",
   "execution_count": 33,
   "metadata": {},
   "outputs": [
    {
     "data": {
      "text/plain": [
       "0    0.291514\n",
       "1    0.318057\n",
       "2    0.359402\n",
       "3    0.425108\n",
       "4    0.734947\n",
       "Name: Views_show, dtype: float64"
      ]
     },
     "execution_count": 33,
     "metadata": {},
     "output_type": "execute_result"
    }
   ],
   "source": [
    "y_train.head()"
   ]
  },
  {
   "cell_type": "code",
   "execution_count": 34,
   "metadata": {},
   "outputs": [],
   "source": [
    "y_train=pd.DataFrame(y_train)"
   ]
  },
  {
   "cell_type": "code",
   "execution_count": 35,
   "metadata": {},
   "outputs": [],
   "source": [
    "#importing stats model\n",
    "\n",
    "import statsmodels.api as sm"
   ]
  },
  {
   "cell_type": "code",
   "execution_count": 36,
   "metadata": {
    "scrolled": false
   },
   "outputs": [],
   "source": [
    "lm = LinearRegression()"
   ]
  },
  {
   "cell_type": "code",
   "execution_count": 37,
   "metadata": {},
   "outputs": [],
   "source": [
    "# Putting feature variable to X\n",
    "X = df3[['Visitors','weekday']]\n",
    "\n",
    "# Putting response variable to y\n",
    "y = y_train"
   ]
  },
  {
   "cell_type": "code",
   "execution_count": 38,
   "metadata": {
    "scrolled": true
   },
   "outputs": [
    {
     "data": {
      "text/plain": [
       "LinearRegression(copy_X=True, fit_intercept=True, n_jobs=None, normalize=False)"
      ]
     },
     "execution_count": 38,
     "metadata": {},
     "output_type": "execute_result"
    }
   ],
   "source": [
    "lm.fit(X,y)"
   ]
  },
  {
   "cell_type": "markdown",
   "metadata": {},
   "source": [
    "#### Running first model (lm1) Weekday & visitors"
   ]
  },
  {
   "cell_type": "code",
   "execution_count": 39,
   "metadata": {},
   "outputs": [
    {
     "name": "stdout",
     "output_type": "stream",
     "text": [
      "                            OLS Regression Results                            \n",
      "==============================================================================\n",
      "Dep. Variable:             Views_show   R-squared:                       0.240\n",
      "Model:                            OLS   Adj. R-squared:                  0.220\n",
      "Method:                 Least Squares   F-statistic:                     12.17\n",
      "Date:                Wed, 21 Apr 2021   Prob (F-statistic):           2.56e-05\n",
      "Time:                        12:26:46   Log-Likelihood:                 13.119\n",
      "No. Observations:                  80   AIC:                            -20.24\n",
      "Df Residuals:                      77   BIC:                            -13.09\n",
      "Df Model:                           2                                         \n",
      "Covariance Type:            nonrobust                                         \n",
      "==============================================================================\n",
      "                 coef    std err          t      P>|t|      [0.025      0.975]\n",
      "------------------------------------------------------------------------------\n",
      "const          0.1581      0.067      2.375      0.020       0.026       0.291\n",
      "Visitors       0.4308      0.113      3.817      0.000       0.206       0.656\n",
      "weekday        0.0244      0.012      1.979      0.051      -0.000       0.049\n",
      "==============================================================================\n",
      "Omnibus:                        1.526   Durbin-Watson:                   0.600\n",
      "Prob(Omnibus):                  0.466   Jarque-Bera (JB):                1.474\n",
      "Skew:                          -0.229   Prob(JB):                        0.479\n",
      "Kurtosis:                       2.519   Cond. No.                         23.7\n",
      "==============================================================================\n",
      "\n",
      "Warnings:\n",
      "[1] Standard Errors assume that the covariance matrix of the errors is correctly specified.\n"
     ]
    }
   ],
   "source": [
    "X = sm.add_constant(X)\n",
    "\n",
    "lm_1 = sm.OLS(y,X).fit()\n",
    "print(lm_1.summary())"
   ]
  },
  {
   "cell_type": "code",
   "execution_count": 40,
   "metadata": {},
   "outputs": [],
   "source": [
    "# so the 'weekday' variable seems a bit non - significant - we can break it down by one-hot encoding the weekend specifically \n",
    "\n",
    "# we can do that with a simple function \n",
    "# create Weekend variable, with value 1 at weekends and 0 at weekdays\n",
    "def cond(i):\n",
    "    if i % 7 == 5: return 1\n",
    "    elif i % 7 == 4: return 1\n",
    "    else :return 0\n",
    "    return i\n",
    "\n",
    "df3['weekend']=[cond(i) for i in df3['day']]\n"
   ]
  },
  {
   "cell_type": "code",
   "execution_count": 41,
   "metadata": {
    "scrolled": true
   },
   "outputs": [
    {
     "data": {
      "text/html": [
       "<div>\n",
       "<style scoped>\n",
       "    .dataframe tbody tr th:only-of-type {\n",
       "        vertical-align: middle;\n",
       "    }\n",
       "\n",
       "    .dataframe tbody tr th {\n",
       "        vertical-align: top;\n",
       "    }\n",
       "\n",
       "    .dataframe thead th {\n",
       "        text-align: right;\n",
       "    }\n",
       "</style>\n",
       "<table border=\"1\" class=\"dataframe\">\n",
       "  <thead>\n",
       "    <tr style=\"text-align: right;\">\n",
       "      <th></th>\n",
       "      <th>Date</th>\n",
       "      <th>Cricket_match_india</th>\n",
       "      <th>Character_A</th>\n",
       "      <th>Visitors</th>\n",
       "      <th>Views_platform</th>\n",
       "      <th>Ad_impression</th>\n",
       "      <th>day</th>\n",
       "      <th>weekday</th>\n",
       "      <th>weekend</th>\n",
       "    </tr>\n",
       "  </thead>\n",
       "  <tbody>\n",
       "    <tr>\n",
       "      <th>0</th>\n",
       "      <td>2017-03-01</td>\n",
       "      <td>0</td>\n",
       "      <td>0</td>\n",
       "      <td>0.015233</td>\n",
       "      <td>0.015593</td>\n",
       "      <td>0.055187</td>\n",
       "      <td>0</td>\n",
       "      <td>3</td>\n",
       "      <td>0</td>\n",
       "    </tr>\n",
       "    <tr>\n",
       "      <th>1</th>\n",
       "      <td>2017-03-02</td>\n",
       "      <td>0</td>\n",
       "      <td>0</td>\n",
       "      <td>0.028186</td>\n",
       "      <td>0.000000</td>\n",
       "      <td>0.023484</td>\n",
       "      <td>1</td>\n",
       "      <td>4</td>\n",
       "      <td>0</td>\n",
       "    </tr>\n",
       "    <tr>\n",
       "      <th>2</th>\n",
       "      <td>2017-03-03</td>\n",
       "      <td>0</td>\n",
       "      <td>0</td>\n",
       "      <td>0.000000</td>\n",
       "      <td>0.034873</td>\n",
       "      <td>0.000000</td>\n",
       "      <td>2</td>\n",
       "      <td>5</td>\n",
       "      <td>0</td>\n",
       "    </tr>\n",
       "    <tr>\n",
       "      <th>3</th>\n",
       "      <td>2017-03-04</td>\n",
       "      <td>1</td>\n",
       "      <td>0</td>\n",
       "      <td>0.283989</td>\n",
       "      <td>0.156241</td>\n",
       "      <td>0.074776</td>\n",
       "      <td>3</td>\n",
       "      <td>6</td>\n",
       "      <td>0</td>\n",
       "    </tr>\n",
       "    <tr>\n",
       "      <th>4</th>\n",
       "      <td>2017-03-05</td>\n",
       "      <td>0</td>\n",
       "      <td>0</td>\n",
       "      <td>0.388620</td>\n",
       "      <td>0.316943</td>\n",
       "      <td>0.337273</td>\n",
       "      <td>4</td>\n",
       "      <td>7</td>\n",
       "      <td>1</td>\n",
       "    </tr>\n",
       "  </tbody>\n",
       "</table>\n",
       "</div>"
      ],
      "text/plain": [
       "        Date  Cricket_match_india  Character_A  Visitors  Views_platform  \\\n",
       "0 2017-03-01                    0            0  0.015233        0.015593   \n",
       "1 2017-03-02                    0            0  0.028186        0.000000   \n",
       "2 2017-03-03                    0            0  0.000000        0.034873   \n",
       "3 2017-03-04                    1            0  0.283989        0.156241   \n",
       "4 2017-03-05                    0            0  0.388620        0.316943   \n",
       "\n",
       "   Ad_impression  day  weekday  weekend  \n",
       "0       0.055187    0        3        0  \n",
       "1       0.023484    1        4        0  \n",
       "2       0.000000    2        5        0  \n",
       "3       0.074776    3        6        0  \n",
       "4       0.337273    4        7        1  "
      ]
     },
     "execution_count": 41,
     "metadata": {},
     "output_type": "execute_result"
    }
   ],
   "source": [
    "df3.head()\n"
   ]
  },
  {
   "cell_type": "code",
   "execution_count": 42,
   "metadata": {},
   "outputs": [],
   "source": [
    "# now Running second model (lm2) weekend & visitors\n",
    "X = df3[['Visitors','weekend']]\n",
    "\n",
    "# Putting response variable to y\n",
    "y = y_train\n",
    "\n"
   ]
  },
  {
   "cell_type": "code",
   "execution_count": 43,
   "metadata": {},
   "outputs": [
    {
     "data": {
      "text/plain": [
       "LinearRegression(copy_X=True, fit_intercept=True, n_jobs=None, normalize=False)"
      ]
     },
     "execution_count": 43,
     "metadata": {},
     "output_type": "execute_result"
    }
   ],
   "source": [
    "lm.fit(X,y)"
   ]
  },
  {
   "cell_type": "code",
   "execution_count": 44,
   "metadata": {},
   "outputs": [
    {
     "name": "stdout",
     "output_type": "stream",
     "text": [
      "                                 OLS Regression Results                                \n",
      "=======================================================================================\n",
      "Dep. Variable:             Views_show   R-squared (uncentered):                   0.869\n",
      "Model:                            OLS   Adj. R-squared (uncentered):              0.866\n",
      "Method:                 Least Squares   F-statistic:                              258.9\n",
      "Date:                Wed, 21 Apr 2021   Prob (F-statistic):                    3.66e-35\n",
      "Time:                        12:26:46   Log-Likelihood:                          20.577\n",
      "No. Observations:                  80   AIC:                                     -37.15\n",
      "Df Residuals:                      78   BIC:                                     -32.39\n",
      "Df Model:                           2                                                  \n",
      "Covariance Type:            nonrobust                                                  \n",
      "==============================================================================\n",
      "                 coef    std err          t      P>|t|      [0.025      0.975]\n",
      "------------------------------------------------------------------------------\n",
      "Visitors       0.6976      0.050     13.813      0.000       0.597       0.798\n",
      "weekend        0.3190      0.050      6.356      0.000       0.219       0.419\n",
      "==============================================================================\n",
      "Omnibus:                        5.670   Durbin-Watson:                   0.433\n",
      "Prob(Omnibus):                  0.059   Jarque-Bera (JB):                2.924\n",
      "Skew:                          -0.217   Prob(JB):                        0.232\n",
      "Kurtosis:                       2.171   Cond. No.                         1.98\n",
      "==============================================================================\n",
      "\n",
      "Warnings:\n",
      "[1] Standard Errors assume that the covariance matrix of the errors is correctly specified.\n"
     ]
    }
   ],
   "source": [
    "lm_2 = sm.OLS(y,X).fit()\n",
    "print(lm_2.summary())\n"
   ]
  },
  {
   "cell_type": "code",
   "execution_count": 45,
   "metadata": {},
   "outputs": [],
   "source": [
    "#both features are statistically significant- we can proceed with adding another variable \n",
    "# Putting feature variable to X \n",
    "X = df3[['Visitors','weekend','Character_A']]\n",
    "\n",
    "# Putting response variable to y\n",
    "y = y_train"
   ]
  },
  {
   "cell_type": "code",
   "execution_count": 46,
   "metadata": {},
   "outputs": [
    {
     "name": "stdout",
     "output_type": "stream",
     "text": [
      "                            OLS Regression Results                            \n",
      "==============================================================================\n",
      "Dep. Variable:             Views_show   R-squared:                       0.678\n",
      "Model:                            OLS   Adj. R-squared:                  0.666\n",
      "Method:                 Least Squares   F-statistic:                     53.40\n",
      "Date:                Wed, 21 Apr 2021   Prob (F-statistic):           1.12e-18\n",
      "Time:                        12:26:46   Log-Likelihood:                 47.492\n",
      "No. Observations:                  80   AIC:                            -86.98\n",
      "Df Residuals:                      76   BIC:                            -77.46\n",
      "Df Model:                           3                                         \n",
      "Covariance Type:            nonrobust                                         \n",
      "===============================================================================\n",
      "                  coef    std err          t      P>|t|      [0.025      0.975]\n",
      "-------------------------------------------------------------------------------\n",
      "const           0.2230      0.037      5.974      0.000       0.149       0.297\n",
      "Visitors        0.1625      0.078      2.091      0.040       0.008       0.317\n",
      "weekend         0.3384      0.036      9.300      0.000       0.266       0.411\n",
      "Character_A     0.1789      0.033      5.477      0.000       0.114       0.244\n",
      "==============================================================================\n",
      "Omnibus:                        3.382   Durbin-Watson:                   1.474\n",
      "Prob(Omnibus):                  0.184   Jarque-Bera (JB):                2.262\n",
      "Skew:                          -0.219   Prob(JB):                        0.323\n",
      "Kurtosis:                       2.303   Cond. No.                         6.79\n",
      "==============================================================================\n",
      "\n",
      "Warnings:\n",
      "[1] Standard Errors assume that the covariance matrix of the errors is correctly specified.\n"
     ]
    }
   ],
   "source": [
    "X = sm.add_constant(X) \n",
    "# re-adding the constant \n",
    "lm_3 = sm.OLS(y,X).fit()\n",
    "print(lm_3.summary())"
   ]
  },
  {
   "cell_type": "code",
   "execution_count": 47,
   "metadata": {},
   "outputs": [],
   "source": [
    "#both features are statistically significant- we can proceed with adding another variable \n",
    "# Putting feature variable to X \n",
    "X = df3[['Visitors','weekend','Character_A','Views_platform']]\n",
    "\n",
    "# Putting response variable to y\n",
    "y = y_train"
   ]
  },
  {
   "cell_type": "code",
   "execution_count": 48,
   "metadata": {},
   "outputs": [
    {
     "name": "stdout",
     "output_type": "stream",
     "text": [
      "                            OLS Regression Results                            \n",
      "==============================================================================\n",
      "Dep. Variable:             Views_show   R-squared:                       0.685\n",
      "Model:                            OLS   Adj. R-squared:                  0.668\n",
      "Method:                 Least Squares   F-statistic:                     40.78\n",
      "Date:                Wed, 21 Apr 2021   Prob (F-statistic):           4.08e-18\n",
      "Time:                        12:26:46   Log-Likelihood:                 48.347\n",
      "No. Observations:                  80   AIC:                            -86.69\n",
      "Df Residuals:                      75   BIC:                            -74.78\n",
      "Df Model:                           4                                         \n",
      "Covariance Type:            nonrobust                                         \n",
      "==================================================================================\n",
      "                     coef    std err          t      P>|t|      [0.025      0.975]\n",
      "----------------------------------------------------------------------------------\n",
      "const              0.2313      0.038      6.128      0.000       0.156       0.307\n",
      "Visitors          -0.1845      0.283     -0.651      0.517      -0.749       0.380\n",
      "weekend            0.3433      0.036      9.420      0.000       0.271       0.416\n",
      "Character_A        0.1372      0.046      2.972      0.004       0.045       0.229\n",
      "Views_platform     0.3830      0.301      1.273      0.207      -0.216       0.982\n",
      "==============================================================================\n",
      "Omnibus:                        5.828   Durbin-Watson:                   1.401\n",
      "Prob(Omnibus):                  0.054   Jarque-Bera (JB):                3.329\n",
      "Skew:                          -0.292   Prob(JB):                        0.189\n",
      "Kurtosis:                       2.189   Cond. No.                         35.3\n",
      "==============================================================================\n",
      "\n",
      "Warnings:\n",
      "[1] Standard Errors assume that the covariance matrix of the errors is correctly specified.\n"
     ]
    }
   ],
   "source": [
    "X = sm.add_constant(X) \n",
    "# re-adding the constant \n",
    "lm_4 = sm.OLS(y,X).fit()\n",
    "print(lm_4.summary())"
   ]
  },
  {
   "cell_type": "code",
   "execution_count": 49,
   "metadata": {},
   "outputs": [],
   "source": [
    "#dropping views_platform due to statistical insignificance & re-ordering \n",
    "X = df3[['Visitors','weekend','Character_A','Ad_impression']]\n",
    "\n",
    "# Putting response variable to y\n",
    "y = y_train\n"
   ]
  },
  {
   "cell_type": "code",
   "execution_count": 50,
   "metadata": {},
   "outputs": [
    {
     "name": "stdout",
     "output_type": "stream",
     "text": [
      "                            OLS Regression Results                            \n",
      "==============================================================================\n",
      "Dep. Variable:             Views_show   R-squared:                       0.721\n",
      "Model:                            OLS   Adj. R-squared:                  0.706\n",
      "Method:                 Least Squares   F-statistic:                     48.35\n",
      "Date:                Wed, 21 Apr 2021   Prob (F-statistic):           4.83e-20\n",
      "Time:                        12:26:46   Log-Likelihood:                 53.132\n",
      "No. Observations:                  80   AIC:                            -96.26\n",
      "Df Residuals:                      75   BIC:                            -84.35\n",
      "Df Model:                           4                                         \n",
      "Covariance Type:            nonrobust                                         \n",
      "=================================================================================\n",
      "                    coef    std err          t      P>|t|      [0.025      0.975]\n",
      "---------------------------------------------------------------------------------\n",
      "const             0.1783      0.037      4.759      0.000       0.104       0.253\n",
      "Visitors          0.0578      0.079      0.729      0.468      -0.100       0.216\n",
      "weekend           0.2499      0.043      5.802      0.000       0.164       0.336\n",
      "Character_A       0.0687      0.045      1.532      0.130      -0.021       0.158\n",
      "Ad_impression     0.4170      0.124      3.370      0.001       0.170       0.663\n",
      "==============================================================================\n",
      "Omnibus:                        2.281   Durbin-Watson:                   1.252\n",
      "Prob(Omnibus):                  0.320   Jarque-Bera (JB):                1.489\n",
      "Skew:                          -0.013   Prob(JB):                        0.475\n",
      "Kurtosis:                       2.332   Cond. No.                         12.2\n",
      "==============================================================================\n",
      "\n",
      "Warnings:\n",
      "[1] Standard Errors assume that the covariance matrix of the errors is correctly specified.\n"
     ]
    }
   ],
   "source": [
    "X = sm.add_constant(X) \n",
    "# re-adding the constant \n",
    "lm_5 = sm.OLS(y,X).fit()\n",
    "print(lm_5.summary())"
   ]
  },
  {
   "cell_type": "code",
   "execution_count": 51,
   "metadata": {},
   "outputs": [],
   "source": [
    "#dropping visitors due to statistical insignificance & re-ordering \n",
    "X = df3[['weekend','Character_A','Ad_impression']]\n",
    "\n",
    "# Putting response variable to y\n",
    "y = y_train\n"
   ]
  },
  {
   "cell_type": "code",
   "execution_count": 52,
   "metadata": {},
   "outputs": [
    {
     "name": "stdout",
     "output_type": "stream",
     "text": [
      "                            OLS Regression Results                            \n",
      "==============================================================================\n",
      "Dep. Variable:             Views_show   R-squared:                       0.719\n",
      "Model:                            OLS   Adj. R-squared:                  0.707\n",
      "Method:                 Least Squares   F-statistic:                     64.68\n",
      "Date:                Wed, 21 Apr 2021   Prob (F-statistic):           7.13e-21\n",
      "Time:                        12:26:46   Log-Likelihood:                 52.850\n",
      "No. Observations:                  80   AIC:                            -97.70\n",
      "Df Residuals:                      76   BIC:                            -88.17\n",
      "Df Model:                           3                                         \n",
      "Covariance Type:            nonrobust                                         \n",
      "=================================================================================\n",
      "                    coef    std err          t      P>|t|      [0.025      0.975]\n",
      "---------------------------------------------------------------------------------\n",
      "const             0.1937      0.031      6.297      0.000       0.132       0.255\n",
      "weekend           0.2499      0.043      5.821      0.000       0.164       0.335\n",
      "Character_A       0.0643      0.044      1.451      0.151      -0.024       0.152\n",
      "Ad_impression     0.4523      0.113      3.986      0.000       0.226       0.678\n",
      "==============================================================================\n",
      "Omnibus:                        1.756   Durbin-Watson:                   1.308\n",
      "Prob(Omnibus):                  0.416   Jarque-Bera (JB):                1.316\n",
      "Skew:                           0.073   Prob(JB):                        0.518\n",
      "Kurtosis:                       2.389   Cond. No.                         10.4\n",
      "==============================================================================\n",
      "\n",
      "Warnings:\n",
      "[1] Standard Errors assume that the covariance matrix of the errors is correctly specified.\n"
     ]
    }
   ],
   "source": [
    "X = sm.add_constant(X) \n",
    "# re-adding the constant \n",
    "lm_6 = sm.OLS(y,X).fit()\n",
    "print(lm_6.summary())"
   ]
  },
  {
   "cell_type": "code",
   "execution_count": 53,
   "metadata": {},
   "outputs": [],
   "source": [
    "#re-ordering\n",
    "X = df3[['weekend','Ad_impression']]\n",
    "\n",
    "# Putting response variable to y\n",
    "y = y_train\n"
   ]
  },
  {
   "cell_type": "code",
   "execution_count": 54,
   "metadata": {},
   "outputs": [
    {
     "name": "stdout",
     "output_type": "stream",
     "text": [
      "                            OLS Regression Results                            \n",
      "==============================================================================\n",
      "Dep. Variable:             Views_show   R-squared:                       0.711\n",
      "Model:                            OLS   Adj. R-squared:                  0.703\n",
      "Method:                 Least Squares   F-statistic:                     94.61\n",
      "Date:                Wed, 21 Apr 2021   Prob (F-statistic):           1.81e-21\n",
      "Time:                        12:26:46   Log-Likelihood:                 51.756\n",
      "No. Observations:                  80   AIC:                            -97.51\n",
      "Df Residuals:                      77   BIC:                            -90.37\n",
      "Df Model:                           2                                         \n",
      "Covariance Type:            nonrobust                                         \n",
      "=================================================================================\n",
      "                    coef    std err          t      P>|t|      [0.025      0.975]\n",
      "---------------------------------------------------------------------------------\n",
      "const             0.1789      0.029      6.120      0.000       0.121       0.237\n",
      "weekend           0.2206      0.038      5.782      0.000       0.145       0.297\n",
      "Ad_impression     0.5747      0.076      7.512      0.000       0.422       0.727\n",
      "==============================================================================\n",
      "Omnibus:                        0.684   Durbin-Watson:                   1.144\n",
      "Prob(Omnibus):                  0.710   Jarque-Bera (JB):                0.763\n",
      "Skew:                           0.067   Prob(JB):                        0.683\n",
      "Kurtosis:                       2.541   Cond. No.                         6.44\n",
      "==============================================================================\n",
      "\n",
      "Warnings:\n",
      "[1] Standard Errors assume that the covariance matrix of the errors is correctly specified.\n"
     ]
    }
   ],
   "source": [
    "X = sm.add_constant(X) \n",
    "# re-adding the constant \n",
    "lm_7 = sm.OLS(y,X).fit()\n",
    "print(lm_7.summary())"
   ]
  },
  {
   "cell_type": "code",
   "execution_count": 55,
   "metadata": {},
   "outputs": [],
   "source": [
    "#re-ordering\n",
    "X = df3[['weekend','Ad_impression','Cricket_match_india']]\n",
    "\n",
    "# Putting response variable to y\n",
    "y = y_train\n"
   ]
  },
  {
   "cell_type": "code",
   "execution_count": 56,
   "metadata": {},
   "outputs": [
    {
     "name": "stdout",
     "output_type": "stream",
     "text": [
      "                            OLS Regression Results                            \n",
      "==============================================================================\n",
      "Dep. Variable:             Views_show   R-squared:                       0.712\n",
      "Model:                            OLS   Adj. R-squared:                  0.700\n",
      "Method:                 Least Squares   F-statistic:                     62.55\n",
      "Date:                Wed, 21 Apr 2021   Prob (F-statistic):           1.77e-20\n",
      "Time:                        12:26:46   Log-Likelihood:                 51.888\n",
      "No. Observations:                  80   AIC:                            -95.78\n",
      "Df Residuals:                      76   BIC:                            -86.25\n",
      "Df Model:                           3                                         \n",
      "Covariance Type:            nonrobust                                         \n",
      "=======================================================================================\n",
      "                          coef    std err          t      P>|t|      [0.025      0.975]\n",
      "---------------------------------------------------------------------------------------\n",
      "const                   0.1836      0.031      5.955      0.000       0.122       0.245\n",
      "weekend                 0.2221      0.038      5.776      0.000       0.146       0.299\n",
      "Ad_impression           0.5678      0.078      7.270      0.000       0.412       0.723\n",
      "Cricket_match_india    -0.0246      0.049     -0.501      0.618      -0.123       0.073\n",
      "==============================================================================\n",
      "Omnibus:                        0.861   Durbin-Watson:                   1.177\n",
      "Prob(Omnibus):                  0.650   Jarque-Bera (JB):                0.913\n",
      "Skew:                           0.122   Prob(JB):                        0.634\n",
      "Kurtosis:                       2.537   Cond. No.                         6.64\n",
      "==============================================================================\n",
      "\n",
      "Warnings:\n",
      "[1] Standard Errors assume that the covariance matrix of the errors is correctly specified.\n"
     ]
    }
   ],
   "source": [
    "X = sm.add_constant(X) \n",
    "# re-adding the constant \n",
    "lm_8 = sm.OLS(y,X).fit()\n",
    "print(lm_8.summary())"
   ]
  },
  {
   "cell_type": "code",
   "execution_count": 57,
   "metadata": {},
   "outputs": [],
   "source": [
    "#assuming we have tested all use varaibles- we can assume that lm7 will give us an accurate prediction \n",
    "# Making predictions using the model\n",
    "X = X = df3[['weekend','Ad_impression']]\n",
    "X = sm.add_constant(X)\n",
    "Predicted_views = lm_7.predict(X)"
   ]
  },
  {
   "cell_type": "code",
   "execution_count": 58,
   "metadata": {},
   "outputs": [],
   "source": [
    "from sklearn.metrics import mean_squared_error, r2_score\n",
    "mse = mean_squared_error(y_train, Predicted_views)\n",
    "r_squared = r2_score(y_train, Predicted_views)"
   ]
  },
  {
   "cell_type": "code",
   "execution_count": 59,
   "metadata": {},
   "outputs": [
    {
     "data": {
      "text/plain": [
       "Text(0, 0.5, 'Views')"
      ]
     },
     "execution_count": 59,
     "metadata": {},
     "output_type": "execute_result"
    },
    {
     "data": {
      "image/png": "[encoded data removed]",
      "text/plain": [
       "<Figure size 432x288 with 1 Axes>"
      ]
     },
     "metadata": {
      "needs_background": "light"
     },
     "output_type": "display_data"
    }
   ],
   "source": [
    "#Actual vs Predicted\n",
    "c = [i for i in range(1,81,1)]\n",
    "fig = plt.figure()\n",
    "plt.plot(c,y_train, color=\"blue\", linewidth=2.5, linestyle=\"-\")\n",
    "plt.plot(c,Predicted_views, color=\"red\",  linewidth=2.5, linestyle=\"-\")\n",
    "fig.suptitle('Actual and Predicted', fontsize=20)              # Plot heading \n",
    "plt.xlabel('Index', fontsize=18)                               # X-label\n",
    "plt.ylabel('Views', fontsize=16)      "
   ]
  },
  {
   "cell_type": "code",
   "execution_count": 60,
   "metadata": {},
   "outputs": [
    {
     "data": {
      "text/plain": [
       "Text(0.5, 0, 'Errors')"
      ]
     },
     "execution_count": 60,
     "metadata": {},
     "output_type": "execute_result"
    },
    {
     "data": {
      "image/png": "[encoded data removed]",
      "text/plain": [
       "<Figure size 432x288 with 1 Axes>"
      ]
     },
     "metadata": {
      "needs_background": "light"
     },
     "output_type": "display_data"
    }
   ],
   "source": [
    "suby=y_train.subtract(Predicted_views, axis = 0) \n",
    "fig = plt.figure()\n",
    "sns.distplot(suby, bins = 20)\n",
    "fig.suptitle('Error Terms', fontsize = 20)                  \n",
    "plt.xlabel('Errors', fontsize = 18)           "
   ]
  },
  {
   "cell_type": "code",
   "execution_count": 61,
   "metadata": {},
   "outputs": [
    {
     "data": {
      "text/plain": [
       "Text(0, 0.5, 'y_pred')"
      ]
     },
     "execution_count": 61,
     "metadata": {},
     "output_type": "execute_result"
    },
    {
     "data": {
      "image/png": "[encoded data removed]",
      "text/plain": [
       "<Figure size 432x288 with 1 Axes>"
      ]
     },
     "metadata": {
      "needs_background": "light"
     },
     "output_type": "display_data"
    }
   ],
   "source": [
    "# Plotting y_test and y_pred to understand the spread\n",
    "\n",
    "fig = plt.figure()\n",
    "plt.scatter(y_train, Predicted_views)\n",
    "fig.suptitle('y_test vs y_pred', fontsize = 20)              # Plot heading \n",
    "plt.xlabel('y_test', fontsize = 18)                          # X-label\n",
    "plt.ylabel('y_pred', fontsize = 16)  "
   ]
  },
  {
   "cell_type": "code",
   "execution_count": 62,
   "metadata": {},
   "outputs": [],
   "source": [
    "from sklearn.metrics import r2_score"
   ]
  },
  {
   "cell_type": "code",
   "execution_count": 63,
   "metadata": {},
   "outputs": [
    {
     "data": {
      "text/plain": [
       "0.7107732208492905"
      ]
     },
     "execution_count": 63,
     "metadata": {},
     "output_type": "execute_result"
    }
   ],
   "source": [
    "r2_score(y_train, Predicted_views)"
   ]
  },
  {
   "cell_type": "code",
   "execution_count": null,
   "metadata": {},
   "outputs": [],
   "source": []
  }
 ],
 "metadata": {
  "kernelspec": {
   "display_name": "Python 3",
   "language": "python",
   "name": "python3"
  },
  "language_info": {
   "codemirror_mode": {
    "name": "ipython",
    "version": 3
   },
   "file_extension": ".py",
   "mimetype": "text/x-python",
   "name": "python",
   "nbconvert_exporter": "python",
   "pygments_lexer": "ipython3",
   "version": "3.7.6"
  }
 },
 "nbformat": 4,
 "nbformat_minor": 2
}
